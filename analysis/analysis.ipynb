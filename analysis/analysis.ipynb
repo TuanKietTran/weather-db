{
 "cells": [
  {
   "cell_type": "code",
   "execution_count": 1,
   "metadata": {
    "dotnet_interactive": {
     "language": "csharp"
    },
    "polyglot_notebook": {
     "kernelName": "csharp"
    }
   },
   "outputs": [
    {
     "data": {
      "text/html": [
       "<div><div></div><div></div><div><strong>Installed Packages</strong><ul><li><span>Apache.Ignite, 2.15.0</span></li><li><span>Apache.Ignite.Linq, 2.15.0</span></li></ul></div></div>"
      ]
     },
     "metadata": {},
     "output_type": "display_data"
    }
   ],
   "source": [
    "#r \"nuget: Apache.Ignite, 2.15.0\"\n",
    "#r \"nuget: Apache.Ignite.Linq, 2.15.0\""
   ]
  },
  {
   "cell_type": "code",
   "execution_count": 2,
   "metadata": {
    "dotnet_interactive": {
     "language": "csharp"
    },
    "polyglot_notebook": {
     "kernelName": "csharp"
    }
   },
   "outputs": [],
   "source": [
    "using System;\n",
    "using System.Collections.Generic;\n",
    "using System.Net.Http;\n",
    "using System.Threading.Tasks;\n",
    "using Apache.Ignite.Core;\n",
    "using Apache.Ignite.Core.Cache;\n",
    "using Apache.Ignite.Core.Cache.Configuration;"
   ]
  },
  {
   "cell_type": "code",
   "execution_count": 3,
   "metadata": {
    "dotnet_interactive": {
     "language": "csharp"
    },
    "polyglot_notebook": {
     "kernelName": "csharp"
    }
   },
   "outputs": [],
   "source": [
    "class Country\n",
    "{\n",
    "    public int Id { get; set; }\n",
    "    public string Name { get; set; }\n",
    "    public string Iso3 { get; set; }\n",
    "    public string Iso2 { get; set; }\n",
    "    public string NumericCode { get; set; }\n",
    "    public string PhoneCode { get; set; }\n",
    "    public string Capital { get; set; }\n",
    "    public string Currency { get; set; }\n",
    "    public string CurrencyName { get; set; }\n",
    "    public string CurrencySymbol { get; set; }\n",
    "    public string Tld { get; set; }\n",
    "    public string Native { get; set; }\n",
    "    public string Region { get; set; }\n",
    "    public string RegionId { get; set; }\n",
    "    public string Subregion { get; set; }\n",
    "    public string SubregionId { get; set; }\n",
    "    public string Nationality { get; set; }\n",
    "    public List<TimeZone> Timezones { get; set; }\n",
    "    public Translations Translations { get; set; }\n",
    "    public string Latitude { get; set; }\n",
    "    public string Longitude { get; set; }\n",
    "    public string Emoji { get; set; }\n",
    "    public string EmojiU { get; set; }\n",
    "}\n",
    "\n",
    "class TimeZone\n",
    "{\n",
    "    public string ZoneName { get; set; }\n",
    "    public int GmtOffset { get; set; }\n",
    "    public string GmtOffsetName { get; set; }\n",
    "    public string Abbreviation { get; set; }\n",
    "    public string TzName { get; set; }\n",
    "}\n",
    "\n",
    "class Translations\n",
    "{\n",
    "    public string Kr { get; set; }\n",
    "    public string PtBr { get; set; }\n",
    "    public string Pt { get; set; }\n",
    "    public string Nl { get; set; }\n",
    "    public string Hr { get; set; }\n",
    "    public string Fa { get; set; }\n",
    "    public string De { get; set; }\n",
    "    public string Es { get; set; }\n",
    "    public string Fr { get; set; }\n",
    "    public string Ja { get; set; }\n",
    "    public string It { get; set; }\n",
    "    public string Cn { get; set; }\n",
    "    public string Tr { get; set; }\n",
    "}"
   ]
  },
  {
   "cell_type": "code",
   "execution_count": 4,
   "metadata": {
    "dotnet_interactive": {
     "language": "csharp"
    },
    "polyglot_notebook": {
     "kernelName": "csharp"
    }
   },
   "outputs": [],
   "source": [
    "async Task<string> FetchJsonDataAsync(string url)\n",
    "{\n",
    "    using (var httpClient = new HttpClient())\n",
    "    {\n",
    "        return await httpClient.GetStringAsync(url);\n",
    "    }\n",
    "}\n",
    "\n",
    "var countriesJsonUrl = \"https://raw.githubusercontent.com/dr5hn/countries-states-cities-database/master/countries.json\";\n",
    "var countriesJson = await FetchJsonDataAsync(countriesJsonUrl);"
   ]
  },
  {
   "cell_type": "code",
   "execution_count": 5,
   "metadata": {
    "dotnet_interactive": {
     "language": "csharp"
    },
    "polyglot_notebook": {
     "kernelName": "csharp"
    }
   },
   "outputs": [],
   "source": [
    "var igniteConfig = new IgniteConfiguration\n",
    "{\n",
    "    CacheConfiguration = new[]\n",
    "    {\n",
    "        new CacheConfiguration(\"countriesCache\")\n",
    "        {\n",
    "            QueryEntities = new[]\n",
    "            {\n",
    "                new QueryEntity\n",
    "                {\n",
    "                    KeyType = typeof(int),\n",
    "                    ValueType = typeof(Country),\n",
    "                    Fields = new[]\n",
    "                    {\n",
    "                        new QueryField(\"Id\", typeof(int)),\n",
    "                        new QueryField(\"Name\", typeof(string)),\n",
    "                        new QueryField(\"Region\", typeof(string)),\n",
    "                        new QueryField(\"Subregion\", typeof(string)),\n",
    "                        new QueryField(\"Capital\", typeof(string)),\n",
    "                        new QueryField(\"Currency\", typeof(string)),\n",
    "                        // Add other fields for indexing\n",
    "                    }\n",
    "                }\n",
    "            },\n",
    "            SqlSchema = \"PUBLIC\", // Change the schema if needed\n",
    "            Backups = 1, // Number of backups for data redundancy\n",
    "            WriteSynchronizationMode = CacheWriteSynchronizationMode.FullSync,\n",
    "            AtomicityMode = CacheAtomicityMode.Transactional,\n",
    "            CacheMode = CacheMode.Partitioned, // Change to CacheMode.Replicated if needed\n",
    "            OnheapCacheEnabled = true,\n",
    "            QueryParallelism = 2, // Adjust based on the available CPU cores\n",
    "            // Add more cache configuration options as needed\n",
    "        }\n",
    "    },\n",
    "    // Add more Ignite configuration options as needed\n",
    "};\n"
   ]
  },
  {
   "cell_type": "code",
   "execution_count": 59,
   "metadata": {
    "dotnet_interactive": {
     "language": "csharp"
    },
    "polyglot_notebook": {
     "kernelName": "csharp"
    }
   },
   "outputs": [
    {
     "name": "stderr",
     "output_type": "stream",
     "text": [
      "[21:47:22,439][WARNING][main][G] Ignite work directory is not provided, automatically resolved to: /Users/kiettran/Projects/weather-db/analysis/ignite/work\n",
      "[21:47:22,440][INFO][main][IgniteKernal] \n",
      "\n",
      ">>>    __________  ________________  \n",
      ">>>   /  _/ ___/ |/ /  _/_  __/ __/  \n",
      ">>>  _/ // (7 7    // /  / / / _/    \n",
      ">>> /___/\\___/_/|_/___/ /_/ /___/   \n",
      ">>> \n",
      ">>> ver. 2.15.0#20230425-sha1:f98f7f35\n",
      ">>> 2023 Copyright(C) Apache Software Foundation\n",
      ">>> \n",
      ">>> Ignite documentation: https://ignite.apache.org\n",
      "\n",
      "[21:47:22,441][INFO][main][IgniteKernal] Config URL: n/a\n",
      "[21:47:22,441][INFO][main][IgniteKernal] IgniteConfiguration [igniteInstanceName=null, pubPoolSize=8, svcPoolSize=8, callbackPoolSize=8, stripedPoolSize=8, sysPoolSize=8, mgmtPoolSize=4, dataStreamerPoolSize=8, utilityCachePoolSize=8, utilityCacheKeepAliveTime=60000, p2pPoolSize=2, qryPoolSize=8, buildIdxPoolSize=2, igniteHome=null, igniteWorkDir=/Users/kiettran/Projects/weather-db/analysis/ignite/work, mbeanSrv=com.sun.jmx.mbeanserver.JmxMBeanServer@4034c28c, nodeId=80d81397-faeb-4ab3-8998-7bf59f1f3622, marsh=BinaryMarshaller [], marshLocJobs=false, p2pEnabled=false, netTimeout=5000, netCompressionLevel=1, sndRetryDelay=1000, sndRetryCnt=3, metricsHistSize=10000, metricsUpdateFreq=2000, metricsExpTime=9223372036854775807, discoSpi=TcpDiscoverySpi [addrRslvr=null, addressFilter=null, sockTimeout=0, ackTimeout=0, marsh=null, reconCnt=10, reconDelay=2000, maxAckTimeout=600000, soLinger=0, forceSrvMode=false, clientReconnectDisabled=false, internalLsnr=null, skipAddrsRandomization=false], segPlc=USE_FAILURE_HANDLER, segResolveAttempts=2, waitForSegOnStart=true, allResolversPassReq=true, segChkFreq=10000, commSpi=TcpCommunicationSpi [connectGate=org.apache.ignite.spi.communication.tcp.internal.ConnectGateway@1a0ffb9b, ctxInitLatch=java.util.concurrent.CountDownLatch@67c0c90b[Count = 1], stopping=false, clientPool=null, nioSrvWrapper=null, stateProvider=null], evtSpi=org.apache.ignite.spi.eventstorage.NoopEventStorageSpi@8549c5f, colSpi=NoopCollisionSpi [], deploySpi=LocalDeploymentSpi [], indexingSpi=org.apache.ignite.spi.indexing.noop.NoopIndexingSpi@319aa9ee, addrRslvr=null, encryptionSpi=org.apache.ignite.spi.encryption.noop.NoopEncryptionSpi@1d806de6, tracingSpi=org.apache.ignite.spi.tracing.NoopTracingSpi@2b9d4b0, clientMode=false, rebalanceThreadPoolSize=2, rebalanceTimeout=10000, rebalanceBatchesPrefetchCnt=3, rebalanceThrottle=0, rebalanceBatchSize=524288, txCfg=TransactionConfiguration [txSerEnabled=false, dfltIsolation=REPEATABLE_READ, dfltConcurrency=PESSIMISTIC, dfltTxTimeout=0, txTimeoutOnPartitionMapExchange=0, deadlockTimeout=10000, pessimisticTxLogSize=0, pessimisticTxLogLinger=10000, tmLookupClsName=null, txManagerFactory=null, useJtaSync=false], cacheSanityCheckEnabled=true, discoStartupDelay=60000, deployMode=SHARED, p2pMissedCacheSize=100, locHost=null, timeSrvPortBase=31100, timeSrvPortRange=100, failureDetectionTimeout=10000, sysWorkerBlockedTimeout=null, clientFailureDetectionTimeout=30000, metricsLogFreq=60000, connectorCfg=ConnectorConfiguration [jettyPath=null, host=null, port=11211, noDelay=true, directBuf=false, sndBufSize=32768, rcvBufSize=32768, idleQryCurTimeout=600000, idleQryCurCheckFreq=60000, sndQueueLimit=0, selectorCnt=4, idleTimeout=7000, sslEnabled=false, sslClientAuth=false, sslCtxFactory=null, sslFactory=null, portRange=100, threadPoolSize=8, msgInterceptor=null], odbcCfg=null, warmupClos=null, atomicCfg=AtomicConfiguration [seqReserveSize=1000, cacheMode=PARTITIONED, backups=1, aff=null, grpName=null], classLdr=null, sslCtxFactory=null, platformCfg=PlatformDotNetConfiguration [binaryCfg=null], binaryCfg=null, memCfg=null, pstCfg=null, dsCfg=DataStorageConfiguration [pageSize=0, concLvl=0, sysDataRegConf=org.apache.ignite.configuration.SystemDataRegionConfiguration@15371de2, dfltDataRegConf=DataRegionConfiguration [name=default, maxSize=3435973836, initSize=268435456, swapPath=null, pageEvictionMode=DISABLED, pageReplacementMode=CLOCK, evictionThreshold=0.9, emptyPagesPoolSize=100, metricsEnabled=false, metricsSubIntervalCount=5, metricsRateTimeInterval=60000, persistenceEnabled=false, checkpointPageBufSize=0, lazyMemoryAllocation=true, warmUpCfg=null, memoryAllocator=null, cdcEnabled=false], dataRegions=null, storagePath=null, checkpointFreq=180000, lockWaitTime=10000, checkpointThreads=4, checkpointWriteOrder=SEQUENTIAL, walHistSize=20, maxWalArchiveSize=1073741824, walSegments=10, walSegmentSize=67108864, walPath=db/wal, walArchivePath=db/wal/archive, cdcWalPath=db/wal/cdc, cdcWalDirMaxSize=0, metricsEnabled=false, walMode=LOG_ONLY, walTlbSize=131072, walBuffSize=0, walFlushFreq=2000, walFsyncDelay=1000, walRecordIterBuffSize=67108864, alwaysWriteFullPages=false, fileIOFactory=org.apache.ignite.internal.processors.cache.persistence.file.AsyncFileIOFactory@5b5b53c6, metricsSubIntervalCnt=5, metricsRateTimeInterval=60000, walAutoArchiveAfterInactivity=-1, walForceArchiveTimeout=-1, writeThrottlingEnabled=false, walCompactionEnabled=false, walCompactionLevel=1, checkpointReadLockTimeout=null, walPageCompression=DISABLED, walPageCompressionLevel=null, dfltWarmUpCfg=null, encCfg=org.apache.ignite.configuration.EncryptionConfiguration@2ec0ca83, defragmentationThreadPoolSize=4, minWalArchiveSize=-1, memoryAllocator=null], snapshotPath=snapshots, snapshotThreadPoolSize=4, activeOnStart=true, activeOnStartPropSetFlag=false, autoActivation=true, autoActivationPropSetFlag=false, clusterStateOnStart=null, sqlConnCfg=null, cliConnCfg=ClientConnectorConfiguration [host=null, port=10800, portRange=100, sockSndBufSize=0, sockRcvBufSize=0, tcpNoDelay=true, maxOpenCursorsPerConn=128, threadPoolSize=8, selectorCnt=4, idleTimeout=0, handshakeTimeout=10000, jdbcEnabled=true, odbcEnabled=true, thinCliEnabled=true, sslEnabled=false, useIgniteSslCtxFactory=true, sslClientAuth=false, sslCtxFactory=null, thinCliCfg=ThinClientConfiguration [maxActiveTxPerConn=100, maxActiveComputeTasksPerConn=0, sendServerExcStackTraceToClient=false]], mvccVacuumThreadCnt=2, mvccVacuumFreq=5000, authEnabled=false, failureHnd=null, commFailureRslvr=null, sqlCfg=SqlConfiguration [longQryWarnTimeout=3000, dfltQryTimeout=0, sqlQryHistSize=1000, validationEnabled=false], asyncContinuationExecutor=null]\n",
      "[21:47:22,441][INFO][main][IgniteKernal] OS: Mac OS X 14.2 aarch64\n",
      "[21:47:22,441][INFO][main][IgniteKernal] OS user: kiettran\n",
      "[21:47:22,442][INFO][main][IgniteKernal] PID: 94423\n",
      "[21:47:22,442][INFO][main][IgniteKernal] Language runtime: Java Platform API Specification ver. 17\n",
      "[21:47:22,442][INFO][main][IgniteKernal] VM information: Java(TM) SE Runtime Environment 17.0.3.1+2-LTS-6 Oracle Corporation Java HotSpot(TM) 64-Bit Server VM 17.0.3.1+2-LTS-6\n",
      "[21:47:22,442][INFO][main][IgniteKernal] VM total memory: 4.0GB\n",
      "[21:47:22,442][INFO][main][IgniteKernal] Remote Management [restart: off, REST: on, JMX (remote: off)]\n",
      "[21:47:22,443][INFO][main][IgniteKernal] Logger: JavaLogger [quiet=false, config=null]\n",
      "[21:47:22,443][INFO][main][IgniteKernal] IGNITE_HOME=null\n",
      "[21:47:22,443][INFO][main][IgniteKernal] VM arguments: [-Dfile.encoding=UTF-8, -Djava.util.logging.config.file=/Users/kiettran/.nuget/packages/apache.ignite/2.15.0/build/output/config/java.util.logging.properties, --add-exports=java.base/jdk.internal.misc=ALL-UNNAMED, --add-exports=java.base/sun.nio.ch=ALL-UNNAMED, --add-exports=java.management/com.sun.jmx.mbeanserver=ALL-UNNAMED, --add-exports=jdk.internal.jvmstat/sun.jvmstat.monitor=ALL-UNNAMED, --add-opens=jdk.management/com.sun.management.internal=ALL-UNNAMED, --illegal-access=permit, --add-opens=java.base/jdk.internal.misc=ALL-UNNAMED, --add-opens=java.base/sun.nio.ch=ALL-UNNAMED, --add-opens=java.management/com.sun.jmx.mbeanserver=ALL-UNNAMED, --add-opens=jdk.internal.jvmstat/sun.jvmstat.monitor=ALL-UNNAMED, --add-opens=java.base/sun.reflect.generics.reflectiveObjects=ALL-UNNAMED, --add-opens=java.base/java.io=ALL-UNNAMED, --add-opens=java.base/java.nio=ALL-UNNAMED, --add-opens=java.base/java.util=ALL-UNNAMED, --add-opens=java.base/java.util.concurrent=ALL-UNNAMED, --add-opens=java.base/java.util.concurrent.locks=ALL-UNNAMED, --add-opens=java.base/java.util.concurrent.atomic=ALL-UNNAMED, --add-opens=java.base/java.lang=ALL-UNNAMED, --add-opens=java.base/java.lang.invoke=ALL-UNNAMED, --add-opens=java.base/java.math=ALL-UNNAMED, --add-opens=java.sql/java.sql=ALL-UNNAMED]\n",
      "[21:47:22,443][INFO][main][IgniteKernal] System cache's DataRegion size is configured to 40 MB. Use DataStorageConfiguration.systemRegionInitialSize property to change the setting.\n",
      "[21:47:22,443][INFO][main][IgniteKernal] Configured caches [in 'sysMemPlc' dataRegion: ['ignite-sys-cache'], in 'default' dataRegion: ['countriesCache']]\n",
      "[21:47:22,443][WARNING][main][IgniteKernal] Please set system property '-Djava.net.preferIPv4Stack=true' to avoid possible problems in mixed environments.\n",
      "[21:47:22,446][INFO][main][IgnitePluginProcessor] Configured plugins:\n",
      "[21:47:22,447][INFO][main][IgnitePluginProcessor]   ^-- None\n",
      "[21:47:22,447][INFO][main][IgnitePluginProcessor] \n",
      "[21:47:22,447][INFO][main][FailureProcessor] Configured failure handler: [hnd=StopNodeOrHaltFailureHandler [tryStop=false, timeout=0, super=AbstractFailureHandler [ignoredFailureTypes=UnmodifiableSet [SYSTEM_WORKER_BLOCKED, SYSTEM_CRITICAL_OPERATION_TIMEOUT]]]]\n",
      "[21:47:22,454][INFO][main][TcpCommunicationSpi] Successfully bound communication NIO server to TCP port [port=47100, locHost=0.0.0.0/0.0.0.0, selectorsCnt=4, selectorSpins=0, pairedConn=false]\n",
      "[21:47:22,454][WARNING][main][TcpCommunicationSpi] Message queue limit is set to 0 which may lead to potential OOMEs when running cache operations in FULL_ASYNC or PRIMARY_SYNC modes due to message queues growth on sender and receiver sides.\n",
      "[21:47:22,455][INFO][main][GridCollisionManager] Collision resolution is disabled (all jobs will be activated upon arrival).\n",
      "[21:47:22,458][INFO][main][TcpDiscoverySpi] Successfully bound to TCP port [port=47500, localHost=0.0.0.0/0.0.0.0, locNodeId=80d81397-faeb-4ab3-8998-7bf59f1f3622]\n",
      "[21:47:22,458][INFO][main][GridLocalConfigManager] Resolved page store work directory: /Users/kiettran/Projects/weather-db/analysis/ignite/work/db/0_0_0_0_0_0_0_1_lo0_127_0_0_1_192_168_1_67_2405_4803_c857_26a0_18d2_ddb3_281a_809c_en0_2405_4803_c857_26a0_f920_3bc7_6b2c_4cca_en0_47500\n",
      "[21:47:22,460][INFO][main][IgniteCacheDatabaseSharedManager] Configured data regions initialized successfully [total=4]\n",
      "[21:47:22,466][WARNING][main][IgniteH2Indexing] Custom H2 serialization is already configured, will override.\n",
      "[21:47:22,468][INFO][main][ClientListenerProcessor] Client connector processor has started on TCP port 10800\n",
      "[21:47:22,483][INFO][main][GridTcpRestProtocol] Command protocol successfully started [name=TCP binary, host=0.0.0.0/0.0.0.0, port=11211]\n",
      "[21:47:22,488][WARNING][main][PlatformProcessorImpl] Marshaller is automatically set to o.a.i.i.binary.BinaryMarshaller (other nodes must have the same marshaller type).\n",
      "[21:47:22,566][INFO][main][IgniteKernal] Non-loopback local IPs: 192.168.1.67, 2405:4803:c857:26a0:18d2:ddb3:281a:809c%en0, 2405:4803:c857:26a0:f920:3bc7:6b2c:4cca%en0, fe80:0:0:0:3c1d:31ff:feb7:4429%awdl0, fe80:0:0:0:3c1d:31ff:feb7:4429%llw0, fe80:0:0:0:4f8:5b42:494e:943a%en0, fe80:0:0:0:5413:193e:9bd9:94a1%utun3, fe80:0:0:0:6b54:426c:59c7:c09e%utun1, fe80:0:0:0:b0be:83ff:fe5a:ee29%ap1, fe80:0:0:0:ce81:b1c:bd2c:69e%utun2, fe80:0:0:0:ef2d:a32f:709c:7017%utun4\n",
      "[21:47:22,566][INFO][main][IgniteKernal] Enabled local MACs: 3E1D31B74429, B0BE835AEE29, B2BE835AEE29\n",
      "[21:47:22,567][INFO][main][ClusterProcessor] Cluster ID and tag has been read from metastorage: null\n",
      "[21:47:22,567][INFO][main][IgniteClusterImpl] Shutdown policy was updated [oldVal=null, newVal=null]\n",
      "[21:47:22,567][INFO][main][IgniteStatisticsManagerImpl] Statistics usage state was changed from null to null\n",
      "[21:47:22,572][WARNING][main][TcpDiscoveryMulticastIpFinder] TcpDiscoveryMulticastIpFinder has no pre-configured addresses (it is recommended in production to specify at least one address in TcpDiscoveryMulticastIpFinder.getAddresses() configuration property)\n",
      "[21:47:23,845][INFO][main][IgniteKernal] Security status [authentication=off, sandbox=off, tls/ssl=off]\n",
      "[21:47:23,845][INFO][main][IgniteKernal] Performance suggestions for grid  (fix if possible)\n",
      "[21:47:23,845][INFO][main][IgniteKernal] To disable, set -DIGNITE_PERFORMANCE_SUGGESTIONS_DISABLED=true\n",
      "[21:47:23,845][INFO][main][IgniteKernal]   ^-- Switch to the most recent 11 JVM version\n",
      "[21:47:23,845][INFO][main][IgniteKernal]   ^-- Specify JVM heap max size (add '-Xmx<size>[g|G|m|M|k|K]' to JVM options)\n",
      "[21:47:23,846][INFO][main][IgniteKernal]   ^-- Set max direct memory size if getting 'OOME: Direct buffer memory' (add '-XX:MaxDirectMemorySize=<size>[g|G|m|M|k|K]' to JVM options)\n",
      "[21:47:23,846][INFO][main][IgniteKernal]   ^-- Enable ATOMIC mode if not using transactions (set 'atomicityMode' to ATOMIC)\n",
      "[21:47:23,846][INFO][main][IgniteKernal]   ^-- Disable fully synchronous writes (set 'writeSynchronizationMode' to PRIMARY_SYNC or FULL_ASYNC)\n",
      "[21:47:23,847][INFO][main][IgniteKernal] Refer to this page for more performance suggestions: https://ignite.apache.org/docs/latest/perf-and-troubleshooting/memory-tuning\n",
      "[21:47:23,847][INFO][main][IgniteKernal] \n",
      "[21:47:23,847][INFO][main][IgniteKernal] \n",
      "\n",
      ">>> +-----------------------------------------------------------------------+\n",
      ">>> Ignite ver. 2.15.0#20230425-sha1:f98f7f35de6dc76a9b69299154afaa2139a5ec6d\n",
      ">>> +-----------------------------------------------------------------------+\n",
      ">>> OS name: Mac OS X 14.2 aarch64\n",
      ">>> CPU(s): 8\n",
      ">>> Heap: 4.0GB\n",
      ">>> VM name: 94423@192.168.1.67\n",
      ">>> Local node [ID=80D81397-FAEB-4AB3-8998-7BF59F1F3622, order=1, clientMode=false]\n",
      ">>> Local node addresses: [2405:4803:c857:26a0:f920:3bc7:6b2c:4cca%en0/0:0:0:0:0:0:0:1%lo0, 192.168.1.67/127.0.0.1, 2405:4803:c857:26a0:18d2:ddb3:281a:809c%en0/192.168.1.67, /2405:4803:c857:26a0:18d2:ddb3:281a:809c%en0, /2405:4803:c857:26a0:f920:3bc7:6b2c:4cca%en0]\n",
      ">>> Local ports: TCP:10800 TCP:11211 TCP:47100 UDP:47400 TCP:47500 \n",
      ">>> +-----------------------------------------------------------------------+\n",
      "\n",
      "[21:47:23,848][INFO][main][GridDiscoveryManager] Topology snapshot [ver=1, locNode=80d81397, servers=1, clients=0, state=ACTIVE, CPUs=8, offheap=3.2GB, heap=4.0GB, aliveNodes=[TcpDiscoveryNode [id=80d81397-faeb-4ab3-8998-7bf59f1f3622, consistentId=0:0:0:0:0:0:0:1%lo0,127.0.0.1,192.168.1.67,2405:4803:c857:26a0:18d2:ddb3:281a:809c%en0,2405:4803:c857:26a0:f920:3bc7:6b2c:4cca%en0:47500, isClient=false, ver=2.15.0#20230425-sha1:f98f7f35]]]\n",
      "[21:47:23,848][INFO][main][GridDiscoveryManager]   ^-- Baseline [id=0, size=1, online=1, offline=0]\n",
      "[21:47:23,848][INFO][main][G] Node started : [stage=\"Configure system pool\" (0 ms),stage=\"Start managers\" (16 ms),stage=\"Configure binary metadata\" (0 ms),stage=\"Start processors\" (107 ms),stage=\"Init metastore\" (3 ms),stage=\"Finish recovery\" (0 ms),stage=\"Join topology\" (1236 ms),stage=\"Await transition\" (0 ms),stage=\"Await exchange\" (42 ms),stage=\"Total time\" (1404 ms)]\n",
      "[21:47:23,848][INFO][main][PluginProcessor] Configured .NET plugins:\n",
      "[21:47:23,848][INFO][main][PluginProcessor]   ^-- None\n"
     ]
    },
    {
     "name": "stdout",
     "output_type": "stream",
     "text": [
      "Number of countries in cache: 250\n",
      "Country in Asia: Armenia\n",
      "Country in Asia: Azerbaijan\n",
      "Country in Asia: Bahrain\n",
      "Country in Asia: Bhutan\n",
      "Country in Asia: Hong Kong S.A.R.\n",
      "Country in Asia: Indonesia\n",
      "Country in Asia: Iraq\n",
      "Country in Asia: Israel\n",
      "Country in Asia: Kazakhstan\n",
      "Country in Asia: South Korea\n",
      "Country in Asia: Kyrgyzstan\n",
      "Country in Asia: Macau S.A.R.\n",
      "Country in Asia: Malaysia\n",
      "Country in Asia: Mongolia\n",
      "Country in Asia: Nepal\n",
      "Country in Asia: Oman\n",
      "Country in Asia: Philippines\n",
      "Country in Asia: Saudi Arabia\n",
      "Country in Asia: Sri Lanka\n",
      "Country in Asia: Taiwan\n",
      "Country in Asia: Turkmenistan\n",
      "Country in Asia: Uzbekistan\n",
      "Country in Asia: Vietnam\n",
      "Country in Asia: Afghanistan\n",
      "Country in Asia: Bangladesh\n",
      "Country in Asia: Brunei\n",
      "Country in Asia: Cambodia\n",
      "Country in Asia: China\n",
      "Country in Asia: East Timor\n",
      "Country in Asia: Georgia\n",
      "Country in Asia: India\n",
      "Country in Asia: Iran\n",
      "Country in Asia: Japan\n",
      "Country in Asia: Jordan\n",
      "Country in Asia: North Korea\n",
      "Country in Asia: Kuwait\n",
      "Country in Asia: Laos\n",
      "Country in Asia: Lebanon\n",
      "Country in Asia: Maldives\n",
      "Country in Asia: Myanmar\n",
      "Country in Asia: Pakistan\n",
      "Country in Asia: Palestinian Territory Occupied\n",
      "Country in Asia: Qatar\n",
      "Country in Asia: Singapore\n",
      "Country in Asia: Syria\n",
      "Country in Asia: Tajikistan\n",
      "Country in Asia: Thailand\n",
      "Country in Asia: Turkey\n",
      "Country in Asia: United Arab Emirates\n",
      "Country in Asia: Yemen\n",
      "Sample transaction\n",
      "Failed to update due to concurrency control\n",
      "Country in Asia: Updated Country\n"
     ]
    },
    {
     "name": "stderr",
     "output_type": "stream",
     "text": [
      "[21:47:23,934][INFO][main][GridTcpRestProtocol] Command protocol successfully stopped: TCP binary\n",
      "[21:47:23,946][INFO][main][GridCacheProcessor] Stopped cache [cacheName=countriesCache]\n",
      "[21:47:23,947][INFO][main][GridCacheProcessor] Stopped cache [cacheName=ignite-sys-cache]\n",
      "[21:47:23,954][INFO][main][IgniteKernal] \n",
      "\n",
      ">>> +----------------------------------------------------------------------------------+\n",
      ">>> Ignite ver. 2.15.0#20230425-sha1:f98f7f35de6dc76a9b69299154afaa2139a5ec6d stopped OK\n",
      ">>> +----------------------------------------------------------------------------------+\n",
      ">>> Grid uptime: 00:00:00.110\n",
      "\n",
      "\n"
     ]
    }
   ],
   "source": [
    "\n",
    "using (var ignite = Ignition.Start(igniteConfig))\n",
    "{\n",
    "    // Create a cache\n",
    "    var cache = ignite.GetOrCreateCache<int, Country>(\"countriesCache\");\n",
    "\n",
    "    // Deserialize JSON data and insert into the cache\n",
    "    var countries = Newtonsoft.Json.JsonConvert.DeserializeObject<List<Country>>(countriesJson);\n",
    "\n",
    "    foreach (var country in countries)\n",
    "    {\n",
    "        cache.Put(country.Id, country);\n",
    "    }\n",
    "\n",
    "    // Display the number of countries in the cache\n",
    "    Console.WriteLine($\"Number of countries in cache: {cache.GetSize()}\");\n",
    "\n",
    "    // Sample query\n",
    "    var query = cache.Query(new Apache.Ignite.Core.Cache.Query.SqlFieldsQuery(\"SELECT Name FROM Country WHERE Region = 'Asia'\"));\n",
    "\n",
    "    foreach (var result in query)\n",
    "    {\n",
    "        Console.WriteLine($\"Country in Asia: {result[0]}\");\n",
    "    }\n",
    "\n",
    "    // Sample transaction\n",
    "    using (var tx = ignite.GetTransactions().TxStart())\n",
    "    {\n",
    "        // Perform transactional operations\n",
    "        var countryToUpdate = cache.Get(1);\n",
    "        countryToUpdate.Name = \"Updated Country\";\n",
    "        cache.Put(1, countryToUpdate);\n",
    "        Console.WriteLine(\"Sample transaction\");\n",
    "        // Commit the transaction\n",
    "        tx.Commit();\n",
    "    }\n",
    "\n",
    "    // Sample concurrency control (optimistic)\n",
    "    var updatedCountry = new Country { Id = 1, Name = \"Updated Value\" };\n",
    "\n",
    "    // Use GetAndPutIfAbsent as a workaround for optimistic concurrency control\n",
    "    var existingCountry = cache.GetAndPutIfAbsent(1, updatedCountry);\n",
    "\n",
    "    if (existingCountry == null)\n",
    "    {\n",
    "        Console.WriteLine(\"Successfully updated value\");\n",
    "    }\n",
    "    else\n",
    "    {\n",
    "        Console.WriteLine(\"Failed to update due to concurrency control\");\n",
    "    }\n",
    "\n",
    "    var newQ = cache.Query(new Apache.Ignite.Core.Cache.Query.SqlFieldsQuery(\"SELECT Name FROM Country WHERE Id = 1\"));\n",
    "\n",
    "    foreach (var result in newQ)\n",
    "    {\n",
    "        Console.WriteLine($\"Country in Asia: {result[0]}\");\n",
    "    }\n",
    "    Ignition.Stop(ignite.Name, true);\n",
    "}\n",
    "\n"
   ]
  },
  {
   "cell_type": "markdown",
   "metadata": {},
   "source": [
    "# SQLite"
   ]
  },
  {
   "cell_type": "code",
   "execution_count": 45,
   "metadata": {
    "dotnet_interactive": {
     "language": "csharp"
    },
    "polyglot_notebook": {
     "kernelName": "csharp"
    }
   },
   "outputs": [
    {
     "data": {
      "text/html": [
       "<div><div></div><div></div><div><strong>Installed Packages</strong><ul><li><span>Microsoft.Data.Sqlite, 8.0.0</span></li></ul></div></div>"
      ]
     },
     "metadata": {},
     "output_type": "display_data"
    }
   ],
   "source": [
    "#r \"nuget: Microsoft.Data.Sqlite, 8.0.0\"\n"
   ]
  },
  {
   "cell_type": "code",
   "execution_count": 46,
   "metadata": {
    "dotnet_interactive": {
     "language": "csharp"
    },
    "polyglot_notebook": {
     "kernelName": "csharp"
    }
   },
   "outputs": [],
   "source": [
    "using System;\n",
    "using System.Collections.Generic;\n",
    "using System.Net.Http;\n",
    "using System.Threading.Tasks;\n",
    "using Microsoft.Data.Sqlite;"
   ]
  },
  {
   "cell_type": "code",
   "execution_count": 47,
   "metadata": {},
   "outputs": [],
   "source": [
    "string databasePath = \"countries.db\";\n",
    "string connectionString = $\"Data Source={databasePath};\";\n"
   ]
  },
  {
   "cell_type": "code",
   "execution_count": 48,
   "metadata": {
    "dotnet_interactive": {
     "language": "csharp"
    },
    "polyglot_notebook": {
     "kernelName": "csharp"
    }
   },
   "outputs": [],
   "source": [
    "\n",
    "using (var connection = new SqliteConnection(connectionString))\n",
    "{\n",
    "    connection.Open();\n",
    "    string deletion = \"DROP TABLE IF EXISTS Countries;\"; // Add more tables as needed\n",
    "\n",
    "    using (SqliteCommand createTableCommand = new SqliteCommand(deletion, connection))\n",
    "    {\n",
    "        createTableCommand.ExecuteNonQuery();\n",
    "    }\n",
    "\n",
    "    // Alternatively, you can drop and recreate the tables\n",
    "    // using (var command = new SQLiteCommand(connection))\n",
    "    // {\n",
    "    //     command.CommandText = \"DROP TABLE IF EXISTS TableName1; DROP TABLE IF EXISTS TableName2;\"; // Add more tables as needed\n",
    "    //     command.ExecuteNonQuery();\n",
    "    //     // Recreate tables if needed\n",
    "    //     command.CommandText = \"CREATE TABLE TableName1 (...); CREATE TABLE TableName2 (...);\"; // Add more tables as needed\n",
    "    //     command.ExecuteNonQuery();\n",
    "    // }\n",
    "}\n",
    "\n",
    "\n"
   ]
  },
  {
   "cell_type": "code",
   "execution_count": 49,
   "metadata": {
    "dotnet_interactive": {
     "language": "csharp"
    },
    "polyglot_notebook": {
     "kernelName": "csharp"
    }
   },
   "outputs": [
    {
     "name": "stdout",
     "output_type": "stream",
     "text": [
      "Query Results:\n",
      "Id: 1, Name: Afghanistan, Capital: Kabul, Region: Asia, Subregion: Southern Asia\n",
      "Id: 12, Name: Armenia, Capital: Yerevan, Region: Asia, Subregion: Western Asia\n",
      "Id: 16, Name: Azerbaijan, Capital: Baku, Region: Asia, Subregion: Western Asia\n",
      "Id: 18, Name: Bahrain, Capital: Manama, Region: Asia, Subregion: Western Asia\n",
      "Id: 19, Name: Bangladesh, Capital: Dhaka, Region: Asia, Subregion: Southern Asia\n",
      "Optimized Query Results:\n",
      "Id: 1, Name: Afghanistan, Capital: Kabul, Region: Asia, Subregion: Southern Asia\n",
      "Id: 19, Name: Bangladesh, Capital: Dhaka, Region: Asia, Subregion: Southern Asia\n",
      "Id: 26, Name: Bhutan, Capital: Thimphu, Region: Asia, Subregion: Southern Asia\n",
      "Id: 101, Name: India, Capital: New Delhi, Region: Asia, Subregion: Southern Asia\n",
      "Id: 103, Name: Iran, Capital: Tehran, Region: Asia, Subregion: Southern Asia\n"
     ]
    }
   ],
   "source": [
    "\n",
    "SqliteConnection connection = new SqliteConnection(connectionString);\n",
    "\n",
    "// Create a table to store country data\n",
    "string createTableQuery = @\"\n",
    "    CREATE TABLE IF NOT EXISTS Countries (\n",
    "        Id INTEGER PRIMARY KEY,\n",
    "        Name TEXT,\n",
    "        Capital TEXT,\n",
    "        Region TEXT,\n",
    "        Subregion TEXT\n",
    "    );\n",
    "\";\n",
    "connection.Open();\n",
    "using (SqliteCommand createTableCommand = new SqliteCommand(createTableQuery, connection))\n",
    "{\n",
    "    createTableCommand.ExecuteNonQuery();\n",
    "}\n",
    "\n",
    "// Indexing structures\n",
    "string createIndexQuery = \"CREATE INDEX IF NOT EXISTS idx_region ON Countries(Region);\";\n",
    "using (SqliteCommand createIndexCommand = new SqliteCommand(createIndexQuery, connection))\n",
    "{\n",
    "    createIndexCommand.ExecuteNonQuery();\n",
    "}\n",
    "\n",
    "\n",
    "// Deserialize JSON data into a list of Country objects\n",
    "List<Country> countries = Newtonsoft.Json.JsonConvert.DeserializeObject<List<Country>>(countriesJson);\n",
    "\n",
    "// Insert country data into the SQLite database\n",
    "string insertDataQuery = \"INSERT INTO Countries (Id, Name, Capital, Region, Subregion) VALUES (@Id, @Name, @Capital, @Region, @Subregion);\";\n",
    "using (SqliteTransaction transaction = connection.BeginTransaction())\n",
    "{\n",
    "    foreach (Country country in countries)\n",
    "    {\n",
    "        using (SqliteCommand insertCommand = new SqliteCommand(insertDataQuery, connection, transaction))\n",
    "        {\n",
    "            insertCommand.Parameters.AddWithValue(\"@Id\", country.Id);\n",
    "            insertCommand.Parameters.AddWithValue(\"@Name\", country.Name);\n",
    "            insertCommand.Parameters.AddWithValue(\"@Capital\", country.Capital);\n",
    "            insertCommand.Parameters.AddWithValue(\"@Region\", country.Region);\n",
    "            insertCommand.Parameters.AddWithValue(\"@Subregion\", country.Subregion);\n",
    "            insertCommand.ExecuteNonQuery();\n",
    "        }\n",
    "    }\n",
    "\n",
    "    transaction.Commit();\n",
    "}\n",
    "\n",
    "// Query and print some data from the database\n",
    "string selectQuery = \"SELECT * FROM Countries WHERE Region = 'Asia' LIMIT 5;\";\n",
    "using (SqliteCommand selectCommand = new SqliteCommand(selectQuery, connection))\n",
    "{\n",
    "    using (SqliteDataReader reader = selectCommand.ExecuteReader())\n",
    "    {\n",
    "        Console.WriteLine(\"Query Results:\");\n",
    "        while (reader.Read())\n",
    "        {\n",
    "            Console.WriteLine($\"Id: {reader[\"Id\"]}, Name: {reader[\"Name\"]}, Capital: {reader[\"Capital\"]}, Region: {reader[\"Region\"]}, Subregion: {reader[\"Subregion\"]}\");\n",
    "        }\n",
    "    }\n",
    "}\n",
    "\n",
    "// Query processing and optimization\n",
    "string optimizedQuery = \"SELECT * FROM Countries WHERE Region = 'Asia' AND Subregion = 'Southern Asia' LIMIT 5;\";\n",
    "using (SqliteCommand optimizedCommand = new SqliteCommand(optimizedQuery, connection))\n",
    "{\n",
    "    using (SqliteDataReader reader = optimizedCommand.ExecuteReader())\n",
    "    {\n",
    "        Console.WriteLine(\"Optimized Query Results:\");\n",
    "        while (reader.Read())\n",
    "        {\n",
    "            Console.WriteLine($\"Id: {reader[\"Id\"]}, Name: {reader[\"Name\"]}, Capital: {reader[\"Capital\"]}, Region: {reader[\"Region\"]}, Subregion: {reader[\"Subregion\"]}\");\n",
    "        }\n",
    "    }\n",
    "}\n",
    "\n",
    "\n",
    "\n",
    "// Concurrency control\n",
    "// SQLite supports built-in concurrency control through transactions\n",
    "\n",
    "\n",
    "\n"
   ]
  },
  {
   "cell_type": "code",
   "execution_count": 50,
   "metadata": {
    "dotnet_interactive": {
     "language": "csharp"
    },
    "polyglot_notebook": {
     "kernelName": "csharp"
    }
   },
   "outputs": [],
   "source": [
    "// Transaction processing\n",
    "try\n",
    "{\n",
    "    using (SqliteTransaction transaction1 = connection.BeginTransaction())\n",
    "    {\n",
    "        // Perform some updates within a transaction\n",
    "        string updateQuery1 = \"UPDATE Countries SET Capital = 'New Capital' WHERE Region = 'Asia';\";\n",
    "        using (SqliteCommand updateCommand1 = new SqliteCommand(updateQuery1, connection, transaction1))\n",
    "        {\n",
    "            updateCommand1.ExecuteNonQuery();\n",
    "        }\n",
    "\n",
    "        // Simulate an error to roll back the transaction\n",
    "        // throw new Exception(\"Simulated error\");\n",
    "\n",
    "        // Commit the transaction if no error occurred\n",
    "        transaction1.Commit();\n",
    "    }\n",
    "}\n",
    "catch (Exception ex)\n",
    "{\n",
    "    Console.WriteLine($\"Transaction rolled back: {ex.Message}\");\n",
    "}\n",
    "\n",
    "// Close the main connection\n",
    "connection.Close();"
   ]
  },
  {
   "cell_type": "code",
   "execution_count": 51,
   "metadata": {
    "dotnet_interactive": {
     "language": "csharp"
    },
    "polyglot_notebook": {
     "kernelName": "csharp"
    }
   },
   "outputs": [
    {
     "name": "stdout",
     "output_type": "stream",
     "text": [
      "Concurrency control exception: SQLite Error 5: 'database is locked'.\n"
     ]
    }
   ],
   "source": [
    "// Open two connections for simulating concurrent access\n",
    "SqliteConnection connection1 = new SqliteConnection(connectionString);\n",
    "SqliteConnection connection2 = new SqliteConnection(connectionString);\n",
    "\n",
    "connection1.Open();\n",
    "connection2.Open();\n",
    "\n",
    "try\n",
    "{\n",
    "    using (SqliteTransaction transaction1 = connection1.BeginTransaction())\n",
    "    {\n",
    "        // Connection 1 updates data\n",
    "        string updateQuery1 = \"UPDATE Countries SET Capital = 'Updated Capital 1' WHERE Region = 'Asia';\";\n",
    "        using (SqliteCommand updateCommand1 = new SqliteCommand(updateQuery1, connection1, transaction1))\n",
    "        {\n",
    "            updateCommand1.ExecuteNonQuery();\n",
    "        }\n",
    "\n",
    "        // Simulate a delay to allow connection2 to attempt an update\n",
    "        System.Threading.Thread.Sleep(5000);\n",
    "\n",
    "        using (SqliteTransaction transaction2 = connection2.BeginTransaction())\n",
    "        {\n",
    "            // Connection 2 attempts to update the same data\n",
    "            string updateQuery2 = \"UPDATE Countries SET Capital = 'Updated Capital 2' WHERE Region = 'Asia';\";\n",
    "            using (SqliteCommand updateCommand2 = new SqliteCommand(updateQuery2, connection2, transaction2))\n",
    "            {\n",
    "                updateCommand2.ExecuteNonQuery();\n",
    "            }\n",
    "\n",
    "            // Commit transaction 2\n",
    "            transaction2.Commit();\n",
    "        }\n",
    "\n",
    "        // Commit transaction 1\n",
    "        transaction1.Commit();\n",
    "    }\n",
    "}\n",
    "catch (Exception ex)\n",
    "{\n",
    "    Console.WriteLine($\"Concurrency control exception: {ex.Message}\");\n",
    "}\n",
    "finally\n",
    "{\n",
    "    // Close connections\n",
    "    connection1.Close();\n",
    "    connection2.Close();\n",
    "}"
   ]
  },
  {
   "cell_type": "code",
   "execution_count": 52,
   "metadata": {
    "dotnet_interactive": {
     "language": "csharp"
    },
    "polyglot_notebook": {
     "kernelName": "csharp"
    }
   },
   "outputs": [],
   "source": []
  }
 ],
 "metadata": {
  "kernelspec": {
   "display_name": ".NET (C#)",
   "language": "C#",
   "name": ".net-csharp"
  },
  "language_info": {
   "name": "polyglot-notebook"
  },
  "polyglot_notebook": {
   "kernelInfo": {
    "defaultKernelName": "csharp",
    "items": [
     {
      "aliases": [],
      "languageName": "csharp",
      "name": "csharp"
     }
    ]
   }
  }
 },
 "nbformat": 4,
 "nbformat_minor": 2
}
