{
 "cells": [
  {
   "cell_type": "code",
   "execution_count": 2,
   "metadata": {
    "dotnet_interactive": {
     "language": "csharp"
    },
    "polyglot_notebook": {
     "kernelName": "csharp"
    }
   },
   "outputs": [
    {
     "data": {
      "text/html": [
       "<div><div></div><div></div><div><strong>Installed Packages</strong><ul><li><span>Apache.Ignite, 2.15.0</span></li><li><span>Apache.Ignite.Linq, 2.15.0</span></li></ul></div></div>"
      ]
     },
     "metadata": {},
     "output_type": "display_data"
    }
   ],
   "source": [
    "#r \"nuget: Apache.Ignite, 2.15.0\"\n",
    "#r \"nuget: Apache.Ignite.Linq, 2.15.0\""
   ]
  },
  {
   "cell_type": "code",
   "execution_count": 3,
   "metadata": {
    "dotnet_interactive": {
     "language": "csharp"
    },
    "polyglot_notebook": {
     "kernelName": "csharp"
    }
   },
   "outputs": [],
   "source": [
    "using System;\n",
    "using System.Collections.Generic;\n",
    "using System.Net.Http;\n",
    "using System.Threading.Tasks;\n",
    "using Apache.Ignite.Core;\n",
    "using Apache.Ignite.Core.Cache;\n",
    "using Apache.Ignite.Core.Cache.Configuration;"
   ]
  },
  {
   "cell_type": "code",
   "execution_count": 4,
   "metadata": {
    "dotnet_interactive": {
     "language": "csharp"
    },
    "polyglot_notebook": {
     "kernelName": "csharp"
    }
   },
   "outputs": [],
   "source": [
    "class Country\n",
    "{\n",
    "    public int Id { get; set; }\n",
    "    public string Name { get; set; }\n",
    "    public string Iso3 { get; set; }\n",
    "    public string Iso2 { get; set; }\n",
    "    public string NumericCode { get; set; }\n",
    "    public string PhoneCode { get; set; }\n",
    "    public string Capital { get; set; }\n",
    "    public string Currency { get; set; }\n",
    "    public string CurrencyName { get; set; }\n",
    "    public string CurrencySymbol { get; set; }\n",
    "    public string Tld { get; set; }\n",
    "    public string Native { get; set; }\n",
    "    public string Region { get; set; }\n",
    "    public string RegionId { get; set; }\n",
    "    public string Subregion { get; set; }\n",
    "    public string SubregionId { get; set; }\n",
    "    public string Nationality { get; set; }\n",
    "    public List<TimeZone> Timezones { get; set; }\n",
    "    public Translations Translations { get; set; }\n",
    "    public string Latitude { get; set; }\n",
    "    public string Longitude { get; set; }\n",
    "    public string Emoji { get; set; }\n",
    "    public string EmojiU { get; set; }\n",
    "}\n",
    "\n",
    "class TimeZone\n",
    "{\n",
    "    public string ZoneName { get; set; }\n",
    "    public int GmtOffset { get; set; }\n",
    "    public string GmtOffsetName { get; set; }\n",
    "    public string Abbreviation { get; set; }\n",
    "    public string TzName { get; set; }\n",
    "}\n",
    "\n",
    "class Translations\n",
    "{\n",
    "    public string Kr { get; set; }\n",
    "    public string PtBr { get; set; }\n",
    "    public string Pt { get; set; }\n",
    "    public string Nl { get; set; }\n",
    "    public string Hr { get; set; }\n",
    "    public string Fa { get; set; }\n",
    "    public string De { get; set; }\n",
    "    public string Es { get; set; }\n",
    "    public string Fr { get; set; }\n",
    "    public string Ja { get; set; }\n",
    "    public string It { get; set; }\n",
    "    public string Cn { get; set; }\n",
    "    public string Tr { get; set; }\n",
    "}"
   ]
  },
  {
   "cell_type": "code",
   "execution_count": null,
   "metadata": {
    "dotnet_interactive": {
     "language": "csharp"
    },
    "polyglot_notebook": {
     "kernelName": "csharp"
    }
   },
   "outputs": [],
   "source": [
    "async Task<string> FetchJsonDataAsync(string url)\n",
    "{\n",
    "    using (var httpClient = new HttpClient())\n",
    "    {\n",
    "        return await httpClient.GetStringAsync(url);\n",
    "    }\n",
    "}\n",
    "\n",
    "var countriesJsonUrl = \"https://raw.githubusercontent.com/dr5hn/countries-states-cities-database/master/countries.json\";\n",
    "var countriesJson = await FetchJsonDataAsync(countriesJsonUrl);"
   ]
  },
  {
   "cell_type": "code",
   "execution_count": null,
   "metadata": {
    "dotnet_interactive": {
     "language": "csharp"
    },
    "polyglot_notebook": {
     "kernelName": "csharp"
    }
   },
   "outputs": [],
   "source": [
    "var igniteConfig = new IgniteConfiguration\n",
    "{\n",
    "    CacheConfiguration = new[]\n",
    "    {\n",
    "        new CacheConfiguration(\"countriesCache\")\n",
    "        {\n",
    "            QueryEntities = new[]\n",
    "            {\n",
    "                new QueryEntity\n",
    "                {\n",
    "                    KeyType = typeof(int),\n",
    "                    ValueType = typeof(Country),\n",
    "                    Fields = new[]\n",
    "                    {\n",
    "                        new QueryField(\"Id\", typeof(int)),\n",
    "                        new QueryField(\"Name\", typeof(string)),\n",
    "                        new QueryField(\"Region\", typeof(string)),\n",
    "                        new QueryField(\"Subregion\", typeof(string)),\n",
    "                        new QueryField(\"Capital\", typeof(string)),\n",
    "                        new QueryField(\"Currency\", typeof(string)),\n",
    "                        // Add other fields for indexing\n",
    "                    }\n",
    "                }\n",
    "            },\n",
    "            SqlSchema = \"PUBLIC\", // Change the schema if needed\n",
    "            Backups = 1, // Number of backups for data redundancy\n",
    "            WriteSynchronizationMode = CacheWriteSynchronizationMode.FullSync,\n",
    "            AtomicityMode = CacheAtomicityMode.Transactional,\n",
    "            CacheMode = CacheMode.Partitioned, // Change to CacheMode.Replicated if needed\n",
    "            OnheapCacheEnabled = true,\n",
    "            QueryParallelism = 2, // Adjust based on the available CPU cores\n",
    "            // Add more cache configuration options as needed\n",
    "        }\n",
    "    },\n",
    "    // Add more Ignite configuration options as needed\n",
    "};\n"
   ]
  },
  {
   "cell_type": "code",
   "execution_count": null,
   "metadata": {
    "dotnet_interactive": {
     "language": "csharp"
    },
    "polyglot_notebook": {
     "kernelName": "csharp"
    }
   },
   "outputs": [
    {
     "name": "stderr",
     "output_type": "stream",
     "text": [
      "[07:29:41,455][WARNING][Thread-2][G] Ignite work directory is not provided, automatically resolved to: /Users/kiettran/Projects/weather-db/analysis/ignite/work\n",
      "[07:29:41,457][INFO][Thread-2][IgniteKernal] \n",
      "\n",
      ">>>    __________  ________________  \n",
      ">>>   /  _/ ___/ |/ /  _/_  __/ __/  \n",
      ">>>  _/ // (7 7    // /  / / / _/    \n",
      ">>> /___/\\___/_/|_/___/ /_/ /___/   \n",
      ">>> \n",
      ">>> ver. 2.15.0#20230425-sha1:f98f7f35\n",
      ">>> 2023 Copyright(C) Apache Software Foundation\n",
      ">>> \n",
      ">>> Ignite documentation: https://ignite.apache.org\n",
      "\n",
      "[07:29:41,457][INFO][Thread-2][IgniteKernal] Config URL: n/a\n",
      "[07:29:41,458][INFO][Thread-2][IgniteKernal] IgniteConfiguration [igniteInstanceName=null, pubPoolSize=8, svcPoolSize=8, callbackPoolSize=8, stripedPoolSize=8, sysPoolSize=8, mgmtPoolSize=4, dataStreamerPoolSize=8, utilityCachePoolSize=8, utilityCacheKeepAliveTime=60000, p2pPoolSize=2, qryPoolSize=8, buildIdxPoolSize=2, igniteHome=null, igniteWorkDir=/Users/kiettran/Projects/weather-db/analysis/ignite/work, mbeanSrv=com.sun.jmx.mbeanserver.JmxMBeanServer@e50a6f6, nodeId=7dab9b91-3674-4b79-8321-667e38f01a8c, marsh=BinaryMarshaller [], marshLocJobs=false, p2pEnabled=false, netTimeout=5000, netCompressionLevel=1, sndRetryDelay=1000, sndRetryCnt=3, metricsHistSize=10000, metricsUpdateFreq=2000, metricsExpTime=9223372036854775807, discoSpi=TcpDiscoverySpi [addrRslvr=null, addressFilter=null, sockTimeout=0, ackTimeout=0, marsh=null, reconCnt=10, reconDelay=2000, maxAckTimeout=600000, soLinger=0, forceSrvMode=false, clientReconnectDisabled=false, internalLsnr=null, skipAddrsRandomization=false], segPlc=USE_FAILURE_HANDLER, segResolveAttempts=2, waitForSegOnStart=true, allResolversPassReq=true, segChkFreq=10000, commSpi=TcpCommunicationSpi [connectGate=org.apache.ignite.spi.communication.tcp.internal.ConnectGateway@7e88bc89, ctxInitLatch=java.util.concurrent.CountDownLatch@7cdbf591[Count = 1], stopping=false, clientPool=null, nioSrvWrapper=null, stateProvider=null], evtSpi=org.apache.ignite.spi.eventstorage.NoopEventStorageSpi@5e0c889b, colSpi=NoopCollisionSpi [], deploySpi=LocalDeploymentSpi [], indexingSpi=org.apache.ignite.spi.indexing.noop.NoopIndexingSpi@29ae0834, addrRslvr=null, encryptionSpi=org.apache.ignite.spi.encryption.noop.NoopEncryptionSpi@135c05ca, tracingSpi=org.apache.ignite.spi.tracing.NoopTracingSpi@4ec2218b, clientMode=false, rebalanceThreadPoolSize=2, rebalanceTimeout=10000, rebalanceBatchesPrefetchCnt=3, rebalanceThrottle=0, rebalanceBatchSize=524288, txCfg=TransactionConfiguration [txSerEnabled=false, dfltIsolation=REPEATABLE_READ, dfltConcurrency=PESSIMISTIC, dfltTxTimeout=0, txTimeoutOnPartitionMapExchange=0, deadlockTimeout=10000, pessimisticTxLogSize=0, pessimisticTxLogLinger=10000, tmLookupClsName=null, txManagerFactory=null, useJtaSync=false], cacheSanityCheckEnabled=true, discoStartupDelay=60000, deployMode=SHARED, p2pMissedCacheSize=100, locHost=null, timeSrvPortBase=31100, timeSrvPortRange=100, failureDetectionTimeout=10000, sysWorkerBlockedTimeout=null, clientFailureDetectionTimeout=30000, metricsLogFreq=60000, connectorCfg=ConnectorConfiguration [jettyPath=null, host=null, port=11211, noDelay=true, directBuf=false, sndBufSize=32768, rcvBufSize=32768, idleQryCurTimeout=600000, idleQryCurCheckFreq=60000, sndQueueLimit=0, selectorCnt=4, idleTimeout=7000, sslEnabled=false, sslClientAuth=false, sslCtxFactory=null, sslFactory=null, portRange=100, threadPoolSize=8, msgInterceptor=null], odbcCfg=null, warmupClos=null, atomicCfg=AtomicConfiguration [seqReserveSize=1000, cacheMode=PARTITIONED, backups=1, aff=null, grpName=null], classLdr=null, sslCtxFactory=null, platformCfg=PlatformDotNetConfiguration [binaryCfg=null], binaryCfg=null, memCfg=null, pstCfg=null, dsCfg=DataStorageConfiguration [pageSize=0, concLvl=0, sysDataRegConf=org.apache.ignite.configuration.SystemDataRegionConfiguration@aad71d9, dfltDataRegConf=DataRegionConfiguration [name=default, maxSize=3435973836, initSize=268435456, swapPath=null, pageEvictionMode=DISABLED, pageReplacementMode=CLOCK, evictionThreshold=0.9, emptyPagesPoolSize=100, metricsEnabled=false, metricsSubIntervalCount=5, metricsRateTimeInterval=60000, persistenceEnabled=false, checkpointPageBufSize=0, lazyMemoryAllocation=true, warmUpCfg=null, memoryAllocator=null, cdcEnabled=false], dataRegions=null, storagePath=null, checkpointFreq=180000, lockWaitTime=10000, checkpointThreads=4, checkpointWriteOrder=SEQUENTIAL, walHistSize=20, maxWalArchiveSize=1073741824, walSegments=10, walSegmentSize=67108864, walPath=db/wal, walArchivePath=db/wal/archive, cdcWalPath=db/wal/cdc, cdcWalDirMaxSize=0, metricsEnabled=false, walMode=LOG_ONLY, walTlbSize=131072, walBuffSize=0, walFlushFreq=2000, walFsyncDelay=1000, walRecordIterBuffSize=67108864, alwaysWriteFullPages=false, fileIOFactory=org.apache.ignite.internal.processors.cache.persistence.file.AsyncFileIOFactory@58ef0743, metricsSubIntervalCnt=5, metricsRateTimeInterval=60000, walAutoArchiveAfterInactivity=-1, walForceArchiveTimeout=-1, writeThrottlingEnabled=false, walCompactionEnabled=false, walCompactionLevel=1, checkpointReadLockTimeout=null, walPageCompression=DISABLED, walPageCompressionLevel=null, dfltWarmUpCfg=null, encCfg=org.apache.ignite.configuration.EncryptionConfiguration@2da519dc, defragmentationThreadPoolSize=4, minWalArchiveSize=-1, memoryAllocator=null], snapshotPath=snapshots, snapshotThreadPoolSize=4, activeOnStart=true, activeOnStartPropSetFlag=false, autoActivation=true, autoActivationPropSetFlag=false, clusterStateOnStart=null, sqlConnCfg=null, cliConnCfg=ClientConnectorConfiguration [host=null, port=10800, portRange=100, sockSndBufSize=0, sockRcvBufSize=0, tcpNoDelay=true, maxOpenCursorsPerConn=128, threadPoolSize=8, selectorCnt=4, idleTimeout=0, handshakeTimeout=10000, jdbcEnabled=true, odbcEnabled=true, thinCliEnabled=true, sslEnabled=false, useIgniteSslCtxFactory=true, sslClientAuth=false, sslCtxFactory=null, thinCliCfg=ThinClientConfiguration [maxActiveTxPerConn=100, maxActiveComputeTasksPerConn=0, sendServerExcStackTraceToClient=false]], mvccVacuumThreadCnt=2, mvccVacuumFreq=5000, authEnabled=false, failureHnd=null, commFailureRslvr=null, sqlCfg=SqlConfiguration [longQryWarnTimeout=3000, dfltQryTimeout=0, sqlQryHistSize=1000, validationEnabled=false], asyncContinuationExecutor=null]\n",
      "[07:29:41,458][INFO][Thread-2][IgniteKernal] OS: Mac OS X 14.2 aarch64\n",
      "[07:29:41,458][INFO][Thread-2][IgniteKernal] OS user: kiettran\n",
      "[07:29:41,458][INFO][Thread-2][IgniteKernal] PID: 15709\n",
      "[07:29:41,459][INFO][Thread-2][IgniteKernal] Language runtime: Java Platform API Specification ver. 17\n",
      "[07:29:41,459][INFO][Thread-2][IgniteKernal] VM information: Java(TM) SE Runtime Environment 17.0.3.1+2-LTS-6 Oracle Corporation Java HotSpot(TM) 64-Bit Server VM 17.0.3.1+2-LTS-6\n",
      "[07:29:41,459][INFO][Thread-2][IgniteKernal] VM total memory: 4.0GB\n",
      "[07:29:41,459][INFO][Thread-2][IgniteKernal] Remote Management [restart: off, REST: on, JMX (remote: off)]\n",
      "[07:29:41,459][INFO][Thread-2][IgniteKernal] Logger: JavaLogger [quiet=false, config=null]\n",
      "[07:29:41,459][INFO][Thread-2][IgniteKernal] IGNITE_HOME=null\n",
      "[07:29:41,459][INFO][Thread-2][IgniteKernal] VM arguments: [-Dfile.encoding=UTF-8, -Djava.util.logging.config.file=/Users/kiettran/.nuget/packages/apache.ignite/2.15.0/build/output/config/java.util.logging.properties, --add-exports=java.base/jdk.internal.misc=ALL-UNNAMED, --add-exports=java.base/sun.nio.ch=ALL-UNNAMED, --add-exports=java.management/com.sun.jmx.mbeanserver=ALL-UNNAMED, --add-exports=jdk.internal.jvmstat/sun.jvmstat.monitor=ALL-UNNAMED, --add-opens=jdk.management/com.sun.management.internal=ALL-UNNAMED, --illegal-access=permit, --add-opens=java.base/jdk.internal.misc=ALL-UNNAMED, --add-opens=java.base/sun.nio.ch=ALL-UNNAMED, --add-opens=java.management/com.sun.jmx.mbeanserver=ALL-UNNAMED, --add-opens=jdk.internal.jvmstat/sun.jvmstat.monitor=ALL-UNNAMED, --add-opens=java.base/sun.reflect.generics.reflectiveObjects=ALL-UNNAMED, --add-opens=java.base/java.io=ALL-UNNAMED, --add-opens=java.base/java.nio=ALL-UNNAMED, --add-opens=java.base/java.util=ALL-UNNAMED, --add-opens=java.base/java.util.concurrent=ALL-UNNAMED, --add-opens=java.base/java.util.concurrent.locks=ALL-UNNAMED, --add-opens=java.base/java.util.concurrent.atomic=ALL-UNNAMED, --add-opens=java.base/java.lang=ALL-UNNAMED, --add-opens=java.base/java.lang.invoke=ALL-UNNAMED, --add-opens=java.base/java.math=ALL-UNNAMED, --add-opens=java.sql/java.sql=ALL-UNNAMED]\n",
      "[07:29:41,459][INFO][Thread-2][IgniteKernal] System cache's DataRegion size is configured to 40 MB. Use DataStorageConfiguration.systemRegionInitialSize property to change the setting.\n",
      "[07:29:41,459][INFO][Thread-2][IgniteKernal] Configured caches [in 'sysMemPlc' dataRegion: ['ignite-sys-cache'], in 'default' dataRegion: ['countriesCache']]\n",
      "[07:29:41,460][WARNING][Thread-2][IgniteKernal] Please set system property '-Djava.net.preferIPv4Stack=true' to avoid possible problems in mixed environments.\n",
      "[07:29:41,462][INFO][Thread-2][IgnitePluginProcessor] Configured plugins:\n",
      "[07:29:41,462][INFO][Thread-2][IgnitePluginProcessor]   ^-- None\n",
      "[07:29:41,462][INFO][Thread-2][IgnitePluginProcessor] \n",
      "[07:29:41,462][INFO][Thread-2][FailureProcessor] Configured failure handler: [hnd=StopNodeOrHaltFailureHandler [tryStop=false, timeout=0, super=AbstractFailureHandler [ignoredFailureTypes=UnmodifiableSet [SYSTEM_WORKER_BLOCKED, SYSTEM_CRITICAL_OPERATION_TIMEOUT]]]]\n",
      "[07:29:41,466][INFO][Thread-2][TcpCommunicationSpi] Successfully bound communication NIO server to TCP port [port=47101, locHost=0.0.0.0/0.0.0.0, selectorsCnt=4, selectorSpins=0, pairedConn=false]\n",
      "[07:29:41,466][WARNING][Thread-2][TcpCommunicationSpi] Message queue limit is set to 0 which may lead to potential OOMEs when running cache operations in FULL_ASYNC or PRIMARY_SYNC modes due to message queues growth on sender and receiver sides.\n",
      "[07:29:41,467][INFO][Thread-2][GridCollisionManager] Collision resolution is disabled (all jobs will be activated upon arrival).\n",
      "[07:29:41,470][INFO][Thread-2][TcpDiscoverySpi] Successfully bound to TCP port [port=47501, localHost=0.0.0.0/0.0.0.0, locNodeId=7dab9b91-3674-4b79-8321-667e38f01a8c]\n",
      "[07:29:41,471][INFO][Thread-2][GridLocalConfigManager] Resolved page store work directory: /Users/kiettran/Projects/weather-db/analysis/ignite/work/db/0_0_0_0_0_0_0_1_lo0_127_0_0_1_192_168_1_31_2402_800_62b5_a64a_c2e_9782_d19c_40bd_en0_2402_800_62b5_a64a_c59b_5721_f81_2d6e_en0_47501\n",
      "[07:29:41,472][INFO][Thread-2][IgniteCacheDatabaseSharedManager] Configured data regions initialized successfully [total=4]\n",
      "[07:29:41,477][WARNING][Thread-2][IgniteH2Indexing] Custom H2 serialization is already configured, will override.\n",
      "[07:29:41,478][INFO][Thread-2][ClientListenerProcessor] Client connector processor has started on TCP port 10801\n",
      "[07:29:41,479][INFO][Thread-2][GridTcpRestProtocol] Command protocol successfully started [name=TCP binary, host=0.0.0.0/0.0.0.0, port=11212]\n",
      "[07:29:41,483][WARNING][Thread-2][PlatformProcessorImpl] Marshaller is automatically set to o.a.i.i.binary.BinaryMarshaller (other nodes must have the same marshaller type).\n",
      "[07:29:41,555][INFO][Thread-2][IgniteKernal] Non-loopback local IPs: 192.168.1.31, 2402:800:62b5:a64a:c2e:9782:d19c:40bd%en0, 2402:800:62b5:a64a:c59b:5721:f81:2d6e%en0, fe80:0:0:0:2cbf:2974:d78c:9f9f%utun3, fe80:0:0:0:4f8:5b42:494e:943a%en0, fe80:0:0:0:6f2d:382b:22fb:15ac%utun1, fe80:0:0:0:7ce5:2dff:fe0f:8531%awdl0, fe80:0:0:0:7ce5:2dff:fe0f:8531%llw0, fe80:0:0:0:b0be:83ff:fe5a:ee29%ap1, fe80:0:0:0:b10b:6443:6177:9286%utun2, fe80:0:0:0:ce81:b1c:bd2c:69e%utun4\n",
      "[07:29:41,555][INFO][Thread-2][IgniteKernal] Enabled local MACs: 7EE52D0F8531, B0BE835AEE29, B2BE835AEE29\n",
      "[07:29:41,555][INFO][Thread-2][ClusterProcessor] Cluster ID and tag has been read from metastorage: null\n",
      "[07:29:41,555][INFO][Thread-2][IgniteClusterImpl] Shutdown policy was updated [oldVal=null, newVal=null]\n",
      "[07:29:41,556][INFO][Thread-2][IgniteStatisticsManagerImpl] Statistics usage state was changed from null to null\n",
      "[07:29:41,560][WARNING][Thread-2][TcpDiscoveryMulticastIpFinder] TcpDiscoveryMulticastIpFinder has no pre-configured addresses (it is recommended in production to specify at least one address in TcpDiscoveryMulticastIpFinder.getAddresses() configuration property)\n",
      "[07:29:42,827][INFO][Thread-2][IgniteKernal] Security status [authentication=off, sandbox=off, tls/ssl=off]\n",
      "[07:29:42,828][INFO][Thread-2][IgniteKernal] Performance suggestions for grid  (fix if possible)\n",
      "[07:29:42,828][INFO][Thread-2][IgniteKernal] To disable, set -DIGNITE_PERFORMANCE_SUGGESTIONS_DISABLED=true\n",
      "[07:29:42,828][INFO][Thread-2][IgniteKernal]   ^-- Switch to the most recent 11 JVM version\n",
      "[07:29:42,828][INFO][Thread-2][IgniteKernal]   ^-- Specify JVM heap max size (add '-Xmx<size>[g|G|m|M|k|K]' to JVM options)\n",
      "[07:29:42,828][INFO][Thread-2][IgniteKernal]   ^-- Set max direct memory size if getting 'OOME: Direct buffer memory' (add '-XX:MaxDirectMemorySize=<size>[g|G|m|M|k|K]' to JVM options)\n",
      "[07:29:42,829][INFO][Thread-2][IgniteKernal]   ^-- Enable ATOMIC mode if not using transactions (set 'atomicityMode' to ATOMIC)\n",
      "[07:29:42,829][INFO][Thread-2][IgniteKernal]   ^-- Disable fully synchronous writes (set 'writeSynchronizationMode' to PRIMARY_SYNC or FULL_ASYNC)\n",
      "[07:29:42,829][INFO][Thread-2][IgniteKernal] Refer to this page for more performance suggestions: https://ignite.apache.org/docs/latest/perf-and-troubleshooting/memory-tuning\n",
      "[07:29:42,829][INFO][Thread-2][IgniteKernal] \n",
      "[07:29:42,829][INFO][Thread-2][IgniteKernal] \n",
      "\n",
      ">>> +-----------------------------------------------------------------------+\n",
      ">>> Ignite ver. 2.15.0#20230425-sha1:f98f7f35de6dc76a9b69299154afaa2139a5ec6d\n",
      ">>> +-----------------------------------------------------------------------+\n",
      ">>> OS name: Mac OS X 14.2 aarch64\n",
      ">>> CPU(s): 8\n",
      ">>> Heap: 4.0GB\n",
      ">>> VM name: 15709@192.168.1.31\n",
      ">>> Local node [ID=7DAB9B91-3674-4B79-8321-667E38F01A8C, order=1, clientMode=false]\n",
      ">>> Local node addresses: [2402:800:62b5:a64a:c59b:5721:f81:2d6e%en0/0:0:0:0:0:0:0:1%lo0, 2402:800:62b5:a64a:c2e:9782:d19c:40bd%en0/127.0.0.1, 192.168.1.31/192.168.1.31, /2402:800:62b5:a64a:c2e:9782:d19c:40bd%en0, /2402:800:62b5:a64a:c59b:5721:f81:2d6e%en0]\n",
      ">>> Local ports: TCP:10801 TCP:11212 TCP:47101 UDP:47400 TCP:47501 \n",
      ">>> +-----------------------------------------------------------------------+\n",
      "\n",
      "[07:29:42,830][INFO][Thread-2][GridDiscoveryManager] Topology snapshot [ver=1, locNode=7dab9b91, servers=1, clients=0, state=ACTIVE, CPUs=8, offheap=3.2GB, heap=4.0GB, aliveNodes=[TcpDiscoveryNode [id=7dab9b91-3674-4b79-8321-667e38f01a8c, consistentId=0:0:0:0:0:0:0:1%lo0,127.0.0.1,192.168.1.31,2402:800:62b5:a64a:c2e:9782:d19c:40bd%en0,2402:800:62b5:a64a:c59b:5721:f81:2d6e%en0:47501, isClient=false, ver=2.15.0#20230425-sha1:f98f7f35]]]\n",
      "[07:29:42,830][INFO][Thread-2][GridDiscoveryManager]   ^-- Baseline [id=0, size=1, online=1, offline=0]\n",
      "[07:29:42,830][INFO][Thread-2][G] Node started : [stage=\"Configure system pool\" (0 ms),stage=\"Start managers\" (11 ms),stage=\"Configure binary metadata\" (0 ms),stage=\"Start processors\" (83 ms),stage=\"Init metastore\" (2 ms),stage=\"Finish recovery\" (0 ms),stage=\"Join topology\" (1236 ms),stage=\"Await transition\" (1 ms),stage=\"Await exchange\" (36 ms),stage=\"Total time\" (1369 ms)]\n",
      "[07:29:42,830][INFO][Thread-2][PluginProcessor] Configured .NET plugins:\n",
      "[07:29:42,831][INFO][Thread-2][PluginProcessor]   ^-- None\n"
     ]
    },
    {
     "name": "stdout",
     "output_type": "stream",
     "text": [
      "Number of countries in cache: 250\n",
      "Country in Asia: Armenia\n",
      "Country in Asia: Azerbaijan\n",
      "Country in Asia: Bahrain\n",
      "Country in Asia: Bhutan\n",
      "Country in Asia: Hong Kong S.A.R.\n",
      "Country in Asia: Indonesia\n",
      "Country in Asia: Iraq\n",
      "Country in Asia: Israel\n",
      "Country in Asia: Kazakhstan\n",
      "Country in Asia: South Korea\n",
      "Country in Asia: Kyrgyzstan\n",
      "Country in Asia: Macau S.A.R.\n",
      "Country in Asia: Malaysia\n",
      "Country in Asia: Mongolia\n",
      "Country in Asia: Nepal\n",
      "Country in Asia: Oman\n",
      "Country in Asia: Philippines\n",
      "Country in Asia: Saudi Arabia\n",
      "Country in Asia: Sri Lanka\n",
      "Country in Asia: Taiwan\n",
      "Country in Asia: Turkmenistan\n",
      "Country in Asia: Uzbekistan\n",
      "Country in Asia: Vietnam\n",
      "Country in Asia: Afghanistan\n",
      "Country in Asia: Bangladesh\n",
      "Country in Asia: Brunei\n",
      "Country in Asia: Cambodia\n",
      "Country in Asia: China\n",
      "Country in Asia: East Timor\n",
      "Country in Asia: Georgia\n",
      "Country in Asia: India\n",
      "Country in Asia: Iran\n",
      "Country in Asia: Japan\n",
      "Country in Asia: Jordan\n",
      "Country in Asia: North Korea\n",
      "Country in Asia: Kuwait\n",
      "Country in Asia: Laos\n",
      "Country in Asia: Lebanon\n",
      "Country in Asia: Maldives\n",
      "Country in Asia: Myanmar\n",
      "Country in Asia: Pakistan\n",
      "Country in Asia: Palestinian Territory Occupied\n",
      "Country in Asia: Qatar\n",
      "Country in Asia: Singapore\n",
      "Country in Asia: Syria\n",
      "Country in Asia: Tajikistan\n",
      "Country in Asia: Thailand\n",
      "Country in Asia: Turkey\n",
      "Country in Asia: United Arab Emirates\n",
      "Country in Asia: Yemen\n",
      "Failed to update due to concurrency control\n"
     ]
    },
    {
     "name": "stderr",
     "output_type": "stream",
     "text": [
      "[07:29:42,923][INFO][Thread-2][GridTcpRestProtocol] Command protocol successfully stopped: TCP binary\n",
      "[07:29:42,928][INFO][Thread-2][GridCacheProcessor] Stopped cache [cacheName=countriesCache]\n",
      "[07:29:42,929][INFO][Thread-2][GridCacheProcessor] Stopped cache [cacheName=ignite-sys-cache]\n",
      "[07:29:42,943][INFO][Thread-2][IgniteKernal] \n",
      "\n",
      ">>> +----------------------------------------------------------------------------------+\n",
      ">>> Ignite ver. 2.15.0#20230425-sha1:f98f7f35de6dc76a9b69299154afaa2139a5ec6d stopped OK\n",
      ">>> +----------------------------------------------------------------------------------+\n",
      ">>> Grid uptime: 00:00:00.116\n",
      "\n",
      "\n"
     ]
    }
   ],
   "source": [
    "\n",
    "using (var ignite = Ignition.Start(igniteConfig))\n",
    "{\n",
    "    // Create a cache\n",
    "    var cache = ignite.GetOrCreateCache<int, Country>(\"countriesCache\");\n",
    "\n",
    "    // Deserialize JSON data and insert into the cache\n",
    "    var countries = Newtonsoft.Json.JsonConvert.DeserializeObject<List<Country>>(countriesJson);\n",
    "\n",
    "    foreach (var country in countries)\n",
    "    {\n",
    "        cache.Put(country.Id, country);\n",
    "    }\n",
    "\n",
    "    // Display the number of countries in the cache\n",
    "    Console.WriteLine($\"Number of countries in cache: {cache.GetSize()}\");\n",
    "\n",
    "    // Sample query\n",
    "    var query = cache.Query(new Apache.Ignite.Core.Cache.Query.SqlFieldsQuery(\"SELECT Name FROM Country WHERE Region = 'Asia'\"));\n",
    "\n",
    "    foreach (var result in query)\n",
    "    {\n",
    "        Console.WriteLine($\"Country in Asia: {result[0]}\");\n",
    "    }\n",
    "\n",
    "    // Sample transaction\n",
    "    using (var tx = ignite.GetTransactions().TxStart())\n",
    "    {\n",
    "        // Perform transactional operations\n",
    "        var countryToUpdate = cache.Get(1);\n",
    "        countryToUpdate.Name = \"Updated Country\";\n",
    "        cache.Put(1, countryToUpdate);\n",
    "        Console.WriteLine(\"Sample transaction\");\n",
    "        // Commit the transaction\n",
    "        tx.Commit();\n",
    "    }\n",
    "\n",
    "    // Sample concurrency control (optimistic)\n",
    "    var updatedCountry = new Country { Id = 1, Name = \"Updated Value\" };\n",
    "\n",
    "    // Use GetAndPutIfAbsent as a workaround for optimistic concurrency control\n",
    "    var existingCountry = cache.GetAndPutIfAbsent(1, updatedCountry);\n",
    "\n",
    "    if (existingCountry == null)\n",
    "    {\n",
    "        Console.WriteLine(\"Successfully updated value\");\n",
    "    }\n",
    "    else\n",
    "    {\n",
    "        Console.WriteLine(\"Failed to update due to concurrency control\");\n",
    "    }\n",
    "}\n",
    "\n"
   ]
  },
  {
   "cell_type": "markdown",
   "metadata": {},
   "source": [
    "# SQLite"
   ]
  },
  {
   "cell_type": "code",
   "execution_count": 1,
   "metadata": {
    "dotnet_interactive": {
     "language": "csharp"
    },
    "polyglot_notebook": {
     "kernelName": "csharp"
    }
   },
   "outputs": [
    {
     "data": {
      "text/html": [
       "<div><div></div><div></div><div><strong>Installed Packages</strong><ul><li><span>System.Data.SQLite, 1.0.118</span></li></ul></div></div>"
      ]
     },
     "metadata": {},
     "output_type": "display_data"
    }
   ],
   "source": [
    "#r \"nuget: System.Data.SQLite, 1.0.118\""
   ]
  },
  {
   "cell_type": "code",
   "execution_count": null,
   "metadata": {
    "dotnet_interactive": {
     "language": "csharp"
    },
    "polyglot_notebook": {
     "kernelName": "csharp"
    }
   },
   "outputs": [],
   "source": [
    "\n",
    "// Import necessary libraries\n",
    "using System;\n",
    "using System.Collections.Generic;\n",
    "using System.Data.SQLite;\n",
    "using System.IO;\n",
    "using Newtonsoft.Json.Linq;\n",
    "\n",
    "// Create a SQLite database connection\n",
    "string databasePath = \"countries.db\";\n",
    "string connectionString = $\"Data Source={databasePath};Version=3;\";\n",
    "using (SQLiteConnection connection = new SQLiteConnection(connectionString))\n",
    "{\n",
    "    // Create a table to store country data\n",
    "    string createTableQuery = @\"\n",
    "        CREATE TABLE IF NOT EXISTS Countries (\n",
    "            Id INTEGER PRIMARY KEY,\n",
    "            Name TEXT,\n",
    "            Iso3 TEXT,\n",
    "            Iso2 TEXT,\n",
    "            NumericCode TEXT,\n",
    "            PhoneCode TEXT,\n",
    "            Capital TEXT,\n",
    "            Currency TEXT,\n",
    "            CurrencyName TEXT,\n",
    "            CurrencySymbol TEXT,\n",
    "            Tld TEXT,\n",
    "            Native TEXT,\n",
    "            Region TEXT,\n",
    "            RegionId TEXT,\n",
    "            Subregion TEXT,\n",
    "            SubregionId TEXT,\n",
    "            Nationality TEXT,\n",
    "            Timezones TEXT,\n",
    "            Translations TEXT,\n",
    "            Latitude TEXT,\n",
    "            Longitude TEXT,\n",
    "            Emoji TEXT,\n",
    "            EmojiU TEXT\n",
    "        );\n",
    "    \";\n",
    "    connection.Open();\n",
    "    using (SQLiteCommand createTableCommand = new SQLiteCommand(createTableQuery, connection))\n",
    "    {\n",
    "        createTableCommand.ExecuteNonQuery();\n",
    "    }\n",
    "\n",
    "    // Indexing structures\n",
    "    string createIndexQuery = \"CREATE INDEX IF NOT EXISTS idx_region ON Countries(Region);\";\n",
    "    using (SQLiteCommand createIndexCommand = new SQLiteCommand(createIndexQuery, connection))\n",
    "    {\n",
    "        createIndexCommand.ExecuteNonQuery();\n",
    "    }\n",
    "\n",
    "    // Read JSON data from the provided URL using HttpClient\n",
    "    string jsonDataUrl = \"https://raw.githubusercontent.com/dr5hn/countries-states-cities-database/master/countries.json\";\n",
    "    string jsonData;\n",
    "    using (HttpClient httpClient = new HttpClient())\n",
    "    {\n",
    "        jsonData = await httpClient.GetStringAsync(jsonDataUrl);\n",
    "    }\n",
    "\n",
    "    // Deserialize JSON data into a list of Country objects\n",
    "    List<Country> countries = Newtonsoft.Json.JsonConvert.DeserializeObject<List<Country>>(jsonData);\n",
    "\n",
    "    // Insert country data into the SQLite database\n",
    "    string insertDataQuery = \"INSERT INTO Countries (Id, Name, Iso3, Iso2, NumericCode, PhoneCode, Capital, Currency, CurrencyName, CurrencySymbol, Tld, Native, Region, RegionId, Subregion, SubregionId, Nationality, Timezones, Translations, Latitude, Longitude, Emoji, EmojiU) VALUES (@Id, @Name, @Iso3, @Iso2, @NumericCode, @PhoneCode, @Capital, @Currency, @CurrencyName, @CurrencySymbol, @Tld, @Native, @Region, @RegionId, @Subregion, @SubregionId, @Nationality, @Timezones, @Translations, @Latitude, @Longitude, @Emoji, @EmojiU);\";\n",
    "    using (SQLiteTransaction transaction = connection.BeginTransaction())\n",
    "    {\n",
    "        foreach (Country country in countries)\n",
    "        {\n",
    "            using (SQLiteCommand insertCommand = new SQLiteCommand(insertDataQuery, connection, transaction))\n",
    "            {\n",
    "                insertCommand.Parameters.AddWithValue(\"@Id\", country.Id);\n",
    "                insertCommand.Parameters.AddWithValue(\"@Name\", country.Name);\n",
    "                insertCommand.Parameters.AddWithValue(\"@Iso3\", country.Iso3);\n",
    "                insertCommand.Parameters.AddWithValue(\"@Iso2\", country.Iso2);\n",
    "                insertCommand.Parameters.AddWithValue(\"@NumericCode\", country.NumericCode);\n",
    "                insertCommand.Parameters.AddWithValue(\"@PhoneCode\", country.PhoneCode);\n",
    "                insertCommand.Parameters.AddWithValue(\"@Capital\", country.Capital);\n",
    "                insertCommand.Parameters.AddWithValue(\"@Currency\", country.Currency);\n",
    "                insertCommand.Parameters.AddWithValue(\"@CurrencyName\", country.CurrencyName);\n",
    "                insertCommand.Parameters.AddWithValue(\"@CurrencySymbol\", country.CurrencySymbol);\n",
    "                insertCommand.Parameters.AddWithValue(\"@Tld\", country.Tld);\n",
    "                insertCommand.Parameters.AddWithValue(\"@Native\", country.Native);\n",
    "                insertCommand.Parameters.AddWithValue(\"@Region\", country.Region);\n",
    "                insertCommand.Parameters.AddWithValue(\"@RegionId\", country.RegionId);\n",
    "                insertCommand.Parameters.AddWithValue(\"@Subregion\", country.Subregion);\n",
    "                insertCommand.Parameters.AddWithValue(\"@SubregionId\", country.SubregionId);\n",
    "                insertCommand.Parameters.AddWithValue(\"@Nationality\", country.Nationality);\n",
    "                insertCommand.Parameters.AddWithValue(\"@Timezones\", Newtonsoft.Json.JsonConvert.SerializeObject(country.Timezones));\n",
    "                insertCommand.Parameters.AddWithValue(\"@Translations\", Newtonsoft.Json.JsonConvert.SerializeObject(country.Translations));\n",
    "                insertCommand.Parameters.AddWithValue(\"@Latitude\", country.Latitude);\n",
    "                insertCommand.Parameters.AddWithValue(\"@Longitude\", country.Longitude);\n",
    "                insertCommand.Parameters.AddWithValue(\"@Emoji\", country.Emoji);\n",
    "                insertCommand.Parameters.AddWithValue(\"@EmojiU\", country.EmojiU);\n",
    "\n",
    "                insertCommand.ExecuteNonQuery();\n",
    "            }\n",
    "        }\n",
    "\n",
    "        transaction.Commit();\n",
    "    }\n",
    "\n",
    "    // Query and print some data from the database\n",
    "    string selectQuery = \"SELECT * FROM Countries WHERE Region = 'Asia' LIMIT 5;\";\n",
    "    using (SQLiteCommand selectCommand = new SQLiteCommand(selectQuery, connection))\n",
    "    {\n",
    "        using (SQLiteDataReader reader = selectCommand.ExecuteReader())\n",
    "        {\n",
    "            Console.WriteLine(\"Query Results:\");\n",
    "            while (reader.Read())\n",
    "            {\n",
    "                Console.WriteLine($\"Id: {reader[\"Id\"]}, Name: {reader[\"Name\"]}, Capital: {reader[\"Capital\"]}, Region: {reader[\"Region\"]}, Subregion: {reader[\"Subregion\"]}\");\n",
    "            }\n",
    "        }\n",
    "    }\n",
    "}\n",
    "\n",
    "\n"
   ]
  }
 ],
 "metadata": {
  "kernelspec": {
   "display_name": ".NET (C#)",
   "language": "C#",
   "name": ".net-csharp"
  },
  "language_info": {
   "name": "polyglot-notebook"
  },
  "polyglot_notebook": {
   "kernelInfo": {
    "defaultKernelName": "csharp",
    "items": [
     {
      "aliases": [],
      "languageName": "csharp",
      "name": "csharp"
     }
    ]
   }
  }
 },
 "nbformat": 4,
 "nbformat_minor": 2
}
